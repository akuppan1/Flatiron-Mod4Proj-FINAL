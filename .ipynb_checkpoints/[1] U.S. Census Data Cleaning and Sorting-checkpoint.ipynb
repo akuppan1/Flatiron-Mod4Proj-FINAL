{
 "cells": [
  {
   "cell_type": "markdown",
   "metadata": {},
   "source": [
    "# Leveraging U.S. Census Data\n",
    "\n",
    "## I will be doing the following:\n",
    "    1. Decide upon which state to invest in.\n",
    "    2. After choosing state, obtain custom dataset from U.S. Census Website with 2018 Data for population per zip code\n",
    "    3. Sort through the U.S. Census Data to find the top zip codes to analyze\n",
    "    \n",
    "    \n",
    "## Qualitative Decisions and Assumptions:\n",
    "    1. Focus on where people are moving to. Which state are people leaving and to which state are the most people going to?\n",
    "    2. The investment firm is a smaller firm looking to expand into a new area.\n",
    "    3. The firm will want to have clusters of zip codes nearby for ease of management.\n",
    "    4. Firm will not be outsourcing work to other property managers. Work will be done in-house.\n",
    "    5. We will not be buying apartment buildings but are open to do so in the future.\n",
    "    6. We will look for areas where laws are favorable to landlords as a bonus. \n",
    "    7. Since dataset given has data until April 2018, we will use data on or before that date to simulate real time"
   ]
  },
  {
   "cell_type": "markdown",
   "metadata": {},
   "source": [
    "## 1. Deciding on which state to invest in:\n",
    "\n",
    "\n",
    "### We first look at U.S. Census Data insights from 2017. This article was published on December 20, 2017:\n",
    "\n",
    "https://www.census.gov/newsroom/press-releases/2017/estimates-idaho.html#:~:text=DEC.,state%20population%20estimates%20released%20today"
   ]
  },
  {
   "attachments": {},
   "cell_type": "markdown",
   "metadata": {},
   "source": [
    "### Where are the people moving to?\n",
    "\n",
    "#### Per the article, we have the following: \n",
    "\n",
    "<img src=\"Notebook Pics\\US_Census_Data_Cleaning_and_Sorting\\US_Census_Top10_1.png\" width=600 height=600 /> \n",
    "<img src=\"Notebook Pics\\US_Census_Data_Cleaning_and_Sorting\\US_Census_Top10_2.png\" width=600 height=600 />\n",
    "<img src=\"Notebook Pics\\US_Census_Data_Cleaning_and_Sorting\\US_Census_Top10_3.png\" width=600 height=600 />"
   ]
  },
  {
   "cell_type": "markdown",
   "metadata": {},
   "source": [
    "### I took this data and color coded which ones have overlap on all 3 lists:\n",
    "\n"
   ]
  },
  {
   "cell_type": "code",
   "execution_count": null,
   "metadata": {},
   "outputs": [],
   "source": []
  }
 ],
 "metadata": {
  "kernelspec": {
   "display_name": "Python 3",
   "language": "python",
   "name": "python3"
  },
  "language_info": {
   "codemirror_mode": {
    "name": "ipython",
    "version": 3
   },
   "file_extension": ".py",
   "mimetype": "text/x-python",
   "name": "python",
   "nbconvert_exporter": "python",
   "pygments_lexer": "ipython3",
   "version": "3.8.5"
  }
 },
 "nbformat": 4,
 "nbformat_minor": 4
}
